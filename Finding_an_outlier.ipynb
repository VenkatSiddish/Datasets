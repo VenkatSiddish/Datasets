{
 "cells": [
  {
   "cell_type": "markdown",
   "id": "614268ef",
   "metadata": {},
   "source": [
    "## What is an outlier?"
   ]
  },
  {
   "cell_type": "markdown",
   "id": "83b25afd",
   "metadata": {},
   "source": [
    "An outlier is a data point in a dataset that is distant from all other observations. A data point that lies outside the overall \n",
    "distribution of the dataset"
   ]
  },
  {
   "cell_type": "code",
   "execution_count": 1,
   "id": "1ab68b61",
   "metadata": {},
   "outputs": [],
   "source": [
    "import numpy as np\n",
    "import matplotlib.pyplot as plt\n",
    "%matplotlib inline"
   ]
  },
  {
   "cell_type": "markdown",
   "id": "4a4d4752",
   "metadata": {},
   "source": [
    "CRITERIA TO IDENTIFY AN OUTLIER:\n",
    "1. Data point that falls outside 1.5 times IQR\n",
    "2. Data point that falls outside 3 standard deviations. We can use z score and if z score falls outside of 2 standard deviation\n",
    "\n",
    "REASONS FOR AN OUTLIER TO EXISTS:\n",
    "1. Variability in the data\n",
    "2. An experimental measurement error.\n",
    "\n",
    "Z-score: Standard normal distribution= mean=0 std=1\n",
    "Z=(Xi-mu)/std\n",
    "\n",
    "IMPACTS OF HAVING OUTLIERS IN A DATASET:\n",
    "1. It causes various problema during statistical analysis\n",
    "2. It may cause a significant impact on the mean and the standard deviation.\n",
    "\n",
    "WAYS TO FIND AN OUTLIER:\n",
    "1. Using scatter plots\n",
    "2. Box plot\n",
    "3. using z score\n",
    "4. using the IQR "
   ]
  },
  {
   "cell_type": "code",
   "execution_count": 4,
   "id": "da2b68d5",
   "metadata": {},
   "outputs": [],
   "source": [
    "dataset=[11,10,12,14,12,15,14,13,15,102,12,14,17,19,107,10,13,12,14,12,108,12,11,14,13,15,10,15,12,10]"
   ]
  },
  {
   "cell_type": "code",
   "execution_count": 5,
   "id": "97cd96d2",
   "metadata": {},
   "outputs": [],
   "source": [
    "# Using Z Score\n",
    "\n",
    "outliers=[]\n",
    "def detect_outliers(data):\n",
    "    threshold=3\n",
    "    mean=np.mean(data)\n",
    "    std=np.std(data)\n",
    "    \n",
    "    for i in data:\n",
    "        z_score=(i-mean)/std\n",
    "        if np.abs(z_score)>threshold:\n",
    "            outliers.append(i)\n",
    "    return outliers"
   ]
  },
  {
   "cell_type": "code",
   "execution_count": 6,
   "id": "10792670",
   "metadata": {},
   "outputs": [],
   "source": [
    "outlier_pt=detect_outliers(dataset)"
   ]
  },
  {
   "cell_type": "code",
   "execution_count": 7,
   "id": "5b9319e1",
   "metadata": {},
   "outputs": [
    {
     "data": {
      "text/plain": [
       "[107, 108]"
      ]
     },
     "execution_count": 7,
     "metadata": {},
     "output_type": "execute_result"
    }
   ],
   "source": [
    "outlier_pt"
   ]
  },
  {
   "cell_type": "code",
   "execution_count": 9,
   "id": "12d1d696",
   "metadata": {},
   "outputs": [
    {
     "data": {
      "text/plain": [
       "[10,\n",
       " 10,\n",
       " 10,\n",
       " 10,\n",
       " 11,\n",
       " 11,\n",
       " 12,\n",
       " 12,\n",
       " 12,\n",
       " 12,\n",
       " 12,\n",
       " 12,\n",
       " 12,\n",
       " 13,\n",
       " 13,\n",
       " 13,\n",
       " 14,\n",
       " 14,\n",
       " 14,\n",
       " 14,\n",
       " 14,\n",
       " 15,\n",
       " 15,\n",
       " 15,\n",
       " 15,\n",
       " 17,\n",
       " 19,\n",
       " 102,\n",
       " 107,\n",
       " 108]"
      ]
     },
     "execution_count": 9,
     "metadata": {},
     "output_type": "execute_result"
    }
   ],
   "source": [
    "# Using IQR\n",
    "# data should be arranged in ascending order\n",
    "\n",
    "sorted(dataset)"
   ]
  },
  {
   "cell_type": "code",
   "execution_count": 10,
   "id": "7489c607",
   "metadata": {},
   "outputs": [],
   "source": [
    "q1,q3=np.percentile(dataset,[25,75])"
   ]
  },
  {
   "cell_type": "code",
   "execution_count": 11,
   "id": "c039cf4f",
   "metadata": {},
   "outputs": [
    {
     "name": "stdout",
     "output_type": "stream",
     "text": [
      "12.0 15.0\n"
     ]
    }
   ],
   "source": [
    "print(q1,q3)"
   ]
  },
  {
   "cell_type": "code",
   "execution_count": 12,
   "id": "eeeb6142",
   "metadata": {},
   "outputs": [
    {
     "data": {
      "text/plain": [
       "3.0"
      ]
     },
     "execution_count": 12,
     "metadata": {},
     "output_type": "execute_result"
    }
   ],
   "source": [
    "iqr_value=q3-q1\n",
    "iqr_value"
   ]
  },
  {
   "cell_type": "code",
   "execution_count": 15,
   "id": "924a59ea",
   "metadata": {},
   "outputs": [
    {
     "name": "stdout",
     "output_type": "stream",
     "text": [
      "19.5 7.5\n"
     ]
    }
   ],
   "source": [
    "upperbound=q3+(1.5*iqr_value)\n",
    "lowerbound=q1-(1.5*iqr_value)\n",
    "print(upperbound, lowerbound)"
   ]
  },
  {
   "cell_type": "code",
   "execution_count": 17,
   "id": "828af62d",
   "metadata": {},
   "outputs": [
    {
     "data": {
      "text/plain": [
       "[102, 107, 108]"
      ]
     },
     "execution_count": 17,
     "metadata": {},
     "output_type": "execute_result"
    }
   ],
   "source": [
    "outlier_new=[]\n",
    "for i in dataset:\n",
    "    if i<lowerbound:\n",
    "        outlier_new.append(i)\n",
    "    if i>upperbound:\n",
    "        outlier_new.append(i)\n",
    "outlier_new"
   ]
  },
  {
   "cell_type": "code",
   "execution_count": null,
   "id": "221e5594",
   "metadata": {},
   "outputs": [],
   "source": []
  }
 ],
 "metadata": {
  "kernelspec": {
   "display_name": "Python 3 (ipykernel)",
   "language": "python",
   "name": "python3"
  },
  "language_info": {
   "codemirror_mode": {
    "name": "ipython",
    "version": 3
   },
   "file_extension": ".py",
   "mimetype": "text/x-python",
   "name": "python",
   "nbconvert_exporter": "python",
   "pygments_lexer": "ipython3",
   "version": "3.9.7"
  }
 },
 "nbformat": 4,
 "nbformat_minor": 5
}
